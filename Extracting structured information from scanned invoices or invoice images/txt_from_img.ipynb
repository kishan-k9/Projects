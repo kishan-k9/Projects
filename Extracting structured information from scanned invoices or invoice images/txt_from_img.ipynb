{
  "nbformat": 4,
  "nbformat_minor": 0,
  "metadata": {
    "colab": {
      "provenance": []
    },
    "kernelspec": {
      "name": "python3",
      "display_name": "Python 3"
    },
    "language_info": {
      "name": "python"
    }
  },
  "cells": [
    {
      "cell_type": "code",
      "source": [
        "# first we install the essential library files like pytesseract, tesseract and tesseract-ocr\n",
        "\n",
        "!pip install pytesseract\n",
        "!pip install tesseract\n",
        "!sudo apt install tesseract-ocr"
      ],
      "metadata": {
        "colab": {
          "base_uri": "https://localhost:8080/"
        },
        "id": "gJxj0Do4zqcU",
        "outputId": "7ba0b5b9-3499-4e0b-dc57-c25c5435ca4c"
      },
      "execution_count": 9,
      "outputs": [
        {
          "output_type": "stream",
          "name": "stdout",
          "text": [
            "Requirement already satisfied: pytesseract in /usr/local/lib/python3.10/dist-packages (0.3.10)\n",
            "Requirement already satisfied: packaging>=21.3 in /usr/local/lib/python3.10/dist-packages (from pytesseract) (23.1)\n",
            "Requirement already satisfied: Pillow>=8.0.0 in /usr/local/lib/python3.10/dist-packages (from pytesseract) (9.4.0)\n",
            "Requirement already satisfied: tesseract in /usr/local/lib/python3.10/dist-packages (0.1.3)\n",
            "Reading package lists... Done\n",
            "Building dependency tree... Done\n",
            "Reading state information... Done\n",
            "The following additional packages will be installed:\n",
            "  tesseract-ocr-eng tesseract-ocr-osd\n",
            "The following NEW packages will be installed:\n",
            "  tesseract-ocr tesseract-ocr-eng tesseract-ocr-osd\n",
            "0 upgraded, 3 newly installed, 0 to remove and 16 not upgraded.\n",
            "Need to get 4,816 kB of archives.\n",
            "After this operation, 15.6 MB of additional disk space will be used.\n",
            "Get:1 http://archive.ubuntu.com/ubuntu jammy/universe amd64 tesseract-ocr-eng all 1:4.00~git30-7274cfa-1.1 [1,591 kB]\n",
            "Get:2 http://archive.ubuntu.com/ubuntu jammy/universe amd64 tesseract-ocr-osd all 1:4.00~git30-7274cfa-1.1 [2,990 kB]\n",
            "Get:3 http://archive.ubuntu.com/ubuntu jammy/universe amd64 tesseract-ocr amd64 4.1.1-2.1build1 [236 kB]\n",
            "Fetched 4,816 kB in 0s (9,727 kB/s)\n",
            "debconf: unable to initialize frontend: Dialog\n",
            "debconf: (No usable dialog-like program is installed, so the dialog based frontend cannot be used. at /usr/share/perl5/Debconf/FrontEnd/Dialog.pm line 78, <> line 3.)\n",
            "debconf: falling back to frontend: Readline\n",
            "debconf: unable to initialize frontend: Readline\n",
            "debconf: (This frontend requires a controlling tty.)\n",
            "debconf: falling back to frontend: Teletype\n",
            "dpkg-preconfigure: unable to re-open stdin: \n",
            "Selecting previously unselected package tesseract-ocr-eng.\n",
            "(Reading database ... 120831 files and directories currently installed.)\n",
            "Preparing to unpack .../tesseract-ocr-eng_1%3a4.00~git30-7274cfa-1.1_all.deb ...\n",
            "Unpacking tesseract-ocr-eng (1:4.00~git30-7274cfa-1.1) ...\n",
            "Selecting previously unselected package tesseract-ocr-osd.\n",
            "Preparing to unpack .../tesseract-ocr-osd_1%3a4.00~git30-7274cfa-1.1_all.deb ...\n",
            "Unpacking tesseract-ocr-osd (1:4.00~git30-7274cfa-1.1) ...\n",
            "Selecting previously unselected package tesseract-ocr.\n",
            "Preparing to unpack .../tesseract-ocr_4.1.1-2.1build1_amd64.deb ...\n",
            "Unpacking tesseract-ocr (4.1.1-2.1build1) ...\n",
            "Setting up tesseract-ocr-eng (1:4.00~git30-7274cfa-1.1) ...\n",
            "Setting up tesseract-ocr-osd (1:4.00~git30-7274cfa-1.1) ...\n",
            "Setting up tesseract-ocr (4.1.1-2.1build1) ...\n",
            "Processing triggers for man-db (2.10.2-1) ...\n"
          ]
        }
      ]
    },
    {
      "cell_type": "code",
      "source": [
        "from PIL import Image  # import the library files\n",
        "import pytesseract\n",
        "pytesseract.pytesseract.tesseract_cmd = (\n",
        "    r'/usr/bin/tesseract'\n",
        ")"
      ],
      "metadata": {
        "id": "pK1D71WNjbpD"
      },
      "execution_count": 10,
      "outputs": []
    },
    {
      "cell_type": "code",
      "source": [
        "image_path = '5.jpg'  #here we provide the path of the image\n",
        "image = Image.open(image_path)"
      ],
      "metadata": {
        "id": "5EKRrdNsl1H0"
      },
      "execution_count": 11,
      "outputs": []
    },
    {
      "cell_type": "code",
      "source": [
        "extracted_text = pytesseract.image_to_string(image)    #here are the function that is use to extract text from image\n",
        "print(extracted_text)  # print the result"
      ],
      "metadata": {
        "colab": {
          "base_uri": "https://localhost:8080/"
        },
        "id": "V4GjUzl7liq0",
        "outputId": "2286dce1-6e98-4bae-b8b2-34cecf6639fc"
      },
      "execution_count": 12,
      "outputs": [
        {
          "output_type": "stream",
          "name": "stdout",
          "text": [
            "Original for Buyer\n",
            "\n",
            " \n",
            "\n",
            " \n",
            "\n",
            " \n",
            "\n",
            " \n",
            "\n",
            "SHUBHAD)\n",
            "TAX INVOICE Page No. 1/1\n",
            "(Issued Under Section 31 of Central Goods & Service Tax Act 2017 and Maharashtra State Goods & Service Tax Act 2017)\n",
            "Shubhada Polymers Products (Pvt.) Ltd.\n",
            "Regd Off. Address : - D-506, TTC Industrial Area,Shirvane,NERUL Navi Mumbai,Dist. Thane 400706\n",
            "Works Address :- E-12, M.I.D.C.Area, Ambad,Nashik 422 010\n",
            "\n",
            "—_ - aS se =\n",
            "| Date of Invoice : 13/08/2019 | Transporatation Mode :\n",
            "[Invoice SerialNo. : SHN201002854 | Vehicle No : MH15EG6148\n",
            "| GSTIN NO : 27AADCS9224J51Z2 Place of Supply :27 Maharashtra\n",
            "| PAN NO ; AADCS9224) Date & Time of Supply : 13/08/2019 09:20\n",
            "E-Way Bill No(if any) : Transporter :\n",
            "| 7 Details of Recipient af Details of Delivery\n",
            "Name : Efacec India Pvt Ltd. (C-4) |Name : Efacec India Pvt Ltd. (C-4) oo\n",
            "Address : C-4, Garware XLO Kink Road, MIDC, Ambad,, City : |Address : C-4, Garware XLO Kink Road, MIDC, Ambad,, City : Nashik |\n",
            "\n",
            "Nashik\n",
            "\n",
            "State Code &Name :27 Maharashtra State Code & Name: 27 Maharashtra\n",
            "\n",
            " \n",
            "\n",
            " \n",
            "\n",
            " \n",
            "\n",
            " \n",
            "\n",
            " \n",
            "\n",
            " \n",
            "\n",
            " \n",
            "\n",
            " \n",
            "\n",
            " \n",
            "\n",
            " \n",
            "\n",
            "GSTIN No : 2TAACCE4200H1Z4 GSTIN No + 27AACCE4200H124\n",
            "PAN No : AACCE4200H PAN No + AACCEAZO0N\n",
            "| Sr. Item Code Description of Goods or Services HSN/SAC Quantity Unit Rate/ Rate For Amount\n",
            "; — oe _ _ - Unit Qty\n",
            "\n",
            ", 1 32601131 CAPACITIVE INSULATOR WITH 85389000 60.000 NO 961.00 1.00 57,660.00\n",
            "| CONDENSOR -32216035-01 (ISOLADOR\n",
            "| CONDENSOR) a ‘ — _\n",
            "| Drawing No :32216035-01 Tax / Other Charges Result\n",
            "\n",
            "[PO No.CN1906039.... 60 Nos.] PO Position No. 60 SGST 9% On 57660.00 @ 9.00 % 5,189.40\n",
            "\n",
            "CGST9%On 57660.00 @ \"9,00 % 5,189.40\n",
            "| asieanteci ds ecaniabatsintaiels _ . oe — oo _\n",
            "| oo\n",
            "7\n",
            "| tz\n",
            "Y\n",
            "\n",
            "| a\n",
            "| n\n",
            "| ‘)\n",
            "| Syne ree —————————\n",
            "' 7 - TOTAL 3 _ 60.000 ; Rs. _ 57,660.00;\n",
            "_fotal Invoice Value—+Rs-Sixly-Eight Thousand Thirty-Eight Only CGST9% @ 9.00% 5,189.00\n",
            "| in Words SGST9% @ 9.00% 5,189.00\n",
            "\\Terms and conditions _TOTALAMOUNT: __ 68,038.00\n",
            "iP: t Terms :90 Da i i\n",
            "treater \" ‘ te a ta oe pale of : sie iis Inve We hereby certify that my/our registration certificate\n",
            ": : Se = ete Se S OTe aA Is ies 2 under the Goods and Service Tax Act, 2017 is in force on |\n",
            "\\ per local'reguiations ab therenol is: bnetonayie. _| the date on which the sale of the service specified in this |\n",
            "\n",
            "\" Tax Invoice\" is made by me/us and that the transaction\n",
            "\n",
            "| Certified that the particulars given above are true & correct and the indicated\n",
            "of supply covered |\n",
            "\n",
            "| represents the price actual charged and that there is no flow of additional |\n",
            "! consideration directly or indirectly from the buyer. i\n",
            "\n",
            "Ps : ee | For, Shubhada Polymers Products (Pvt.) Ltd.\n",
            "\n",
            "| Terms & conditions\n",
            "|\n",
            "|\n",
            "s |\n",
            "NS olor |\n",
            "|\n",
            "|\n",
            "\n",
            "14) Goods once sold will not be accepted back.\n",
            "Authorized Signatory\n",
            "\n",
            "  \n",
            "\n",
            "| 2) Our responsibilities ceases no sooner the goods Leave our premises.\n",
            "\n",
            "| 3) Payment to be made on demand otherwise an Interest @ 25% will be\n",
            "charged from the date of sale.\n",
            "\n",
            "| 4)Subject to Mumbai Jurisdiction.\n",
            "\n",
            " \n",
            "\n",
            " \n",
            "\f\n"
          ]
        }
      ]
    },
    {
      "cell_type": "code",
      "source": [],
      "metadata": {
        "id": "4mu6y8HGlkeb"
      },
      "execution_count": null,
      "outputs": []
    }
  ]
}